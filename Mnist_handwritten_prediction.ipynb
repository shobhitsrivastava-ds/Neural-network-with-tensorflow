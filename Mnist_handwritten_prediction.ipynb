{
 "cells": [
  {
   "cell_type": "code",
   "execution_count": 3,
   "metadata": {},
   "outputs": [],
   "source": [
    "import keras\n",
    "import tensorflow as tf\n",
    "from keras import layers\n",
    "from keras.utils import np_utils\n",
    "model = keras.Sequential()\n",
    "(x_train, y_train), (x_test, y_test) = tf.keras.datasets.mnist.load_data()"
   ]
  },
  {
   "cell_type": "code",
   "execution_count": null,
   "metadata": {},
   "outputs": [],
   "source": []
  },
  {
   "cell_type": "code",
   "execution_count": 4,
   "metadata": {},
   "outputs": [
    {
     "name": "stdout",
     "output_type": "stream",
     "text": [
      "('x_train shape:', (60000, 28, 28, 1))\n",
      "('x_test shape ', (10000, 28, 28, 1))\n",
      "('Number of images in x_train', 60000)\n",
      "('Number of images in x_test', 10000)\n"
     ]
    },
    {
     "data": {
      "text/plain": [
       "'n_classes = 10\\nprint(\"Shape before one-hot encoding: \", y_train.shape)\\ny_train = np_utils.to_categorical(y_train, n_classes)\\ny_test = np_utils.to_categorical(y_test, n_classes)\\nprint(\"Shape after one-hot encoding: \", y_train.shape)'"
      ]
     },
     "execution_count": 4,
     "metadata": {},
     "output_type": "execute_result"
    }
   ],
   "source": [
    "# Reshaping the array to 4-dims so that it can work with the Keras API\n",
    "x_train = x_train.reshape(x_train.shape[0], 28, 28, 1)\n",
    "x_test = x_test.reshape(x_test.shape[0], 28, 28, 1)\n",
    "input_shape = (28, 28, 1)\n",
    "# Making sure that the values are float so that we can get decimal points after division\n",
    "x_train = x_train.astype('float32')\n",
    "x_test = x_test.astype('float32')\n",
    "# Normalizing the RGB codes by dividing it to the max RGB value.\n",
    "x_train /= 255\n",
    "x_test /= 255\n",
    "# Printing out the result\n",
    "print('x_train shape:', x_train.shape)\n",
    "print(\"x_test shape \",x_test.shape)\n",
    "print('Number of images in x_train', x_train.shape[0])\n",
    "print('Number of images in x_test', x_test.shape[0])\n",
    "# Hot-Encoding the label set  \n",
    "# one-hot encoding using keras' numpy-related utilities\n",
    "\"\"\"n_classes = 10\n",
    "print(\"Shape before one-hot encoding: \", y_train.shape)\n",
    "y_train = np_utils.to_categorical(y_train, n_classes)\n",
    "y_test = np_utils.to_categorical(y_test, n_classes)\n",
    "print(\"Shape after one-hot encoding: \", y_train.shape)\"\"\""
   ]
  },
  {
   "cell_type": "code",
   "execution_count": 5,
   "metadata": {},
   "outputs": [],
   "source": [
    "# Importing the required Keras modules containing model and layers\n",
    "from keras.models import Sequential\n",
    "from keras.layers import Dense, Conv2D, Dropout, Flatten, MaxPooling2D\n",
    "# Creating a Sequential Model and adding the layers\n",
    "model = Sequential()\n",
    "model.add(Conv2D(64, kernel_size=(3,3), input_shape=input_shape))\n",
    "model.add(MaxPooling2D(pool_size=(2, 2)))\n",
    "model.add(Flatten())# Flattening the 2D arrays for fully connected layers\n",
    "model.add(Dropout(0.3))\n",
    "model.add(Dense(128, activation=tf.nn.relu))\n",
    "model.add(Dropout(0.3))\n",
    "model.add(Dense(10,activation=tf.nn.softmax))"
   ]
  },
  {
   "cell_type": "code",
   "execution_count": 8,
   "metadata": {},
   "outputs": [
    {
     "name": "stdout",
     "output_type": "stream",
     "text": [
      "Epoch 1/10\n",
      "60000/60000 [==============================] - 57s 945us/step - loss: 0.2231 - acc: 0.9316\n",
      "Epoch 2/10\n",
      "60000/60000 [==============================] - 58s 965us/step - loss: 0.1033 - acc: 0.9682\n",
      "Epoch 3/10\n",
      "60000/60000 [==============================] - 58s 965us/step - loss: 0.0769 - acc: 0.9760\n",
      "Epoch 4/10\n",
      "60000/60000 [==============================] - 59s 976us/step - loss: 0.0636 - acc: 0.9803\n",
      "Epoch 5/10\n",
      "60000/60000 [==============================] - 58s 969us/step - loss: 0.0553 - acc: 0.9818\n",
      "Epoch 6/10\n",
      "60000/60000 [==============================] - 58s 967us/step - loss: 0.0504 - acc: 0.9833\n",
      "Epoch 7/10\n",
      "60000/60000 [==============================] - 58s 964us/step - loss: 0.0434 - acc: 0.9856\n",
      "Epoch 8/10\n",
      "60000/60000 [==============================] - 58s 965us/step - loss: 0.0389 - acc: 0.9868\n",
      "Epoch 9/10\n",
      "60000/60000 [==============================] - 58s 975us/step - loss: 0.0389 - acc: 0.9865\n",
      "Epoch 10/10\n",
      "60000/60000 [==============================] - 58s 968us/step - loss: 0.0340 - acc: 0.9888\n"
     ]
    },
    {
     "data": {
      "text/plain": [
       "<keras.callbacks.History at 0x7f4545affa90>"
      ]
     },
     "execution_count": 8,
     "metadata": {},
     "output_type": "execute_result"
    }
   ],
   "source": [
    "model.compile(optimizer='adam', \n",
    "              loss='sparse_categorical_crossentropy', \n",
    "              metrics=['accuracy'])\n",
    "model.fit(x=x_train,y=y_train, epochs=10)"
   ]
  },
  {
   "cell_type": "code",
   "execution_count": 9,
   "metadata": {},
   "outputs": [
    {
     "name": "stdout",
     "output_type": "stream",
     "text": [
      "10000/10000 [==============================] - 2s 189us/step\n"
     ]
    },
    {
     "data": {
      "text/plain": [
       "[0.06285636211547208, 0.984]"
      ]
     },
     "execution_count": 9,
     "metadata": {},
     "output_type": "execute_result"
    }
   ],
   "source": [
    "model.evaluate(x_test, y_test)"
   ]
  },
  {
   "cell_type": "code",
   "execution_count": null,
   "metadata": {},
   "outputs": [],
   "source": []
  },
  {
   "cell_type": "code",
   "execution_count": null,
   "metadata": {},
   "outputs": [],
   "source": []
  }
 ],
 "metadata": {
  "kernelspec": {
   "display_name": "Python 3",
   "language": "python",
   "name": "python3"
  },
  "language_info": {
   "codemirror_mode": {
    "name": "ipython",
    "version": 2
   },
   "file_extension": ".py",
   "mimetype": "text/x-python",
   "name": "python",
   "nbconvert_exporter": "python",
   "pygments_lexer": "ipython2",
   "version": "2.7.15"
  }
 },
 "nbformat": 4,
 "nbformat_minor": 2
}
